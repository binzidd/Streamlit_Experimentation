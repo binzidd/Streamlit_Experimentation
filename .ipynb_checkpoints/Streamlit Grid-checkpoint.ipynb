{
 "cells": [
  {
   "cell_type": "code",
   "execution_count": 3,
   "id": "4acac35e",
   "metadata": {},
   "outputs": [
    {
     "name": "stdout",
     "output_type": "stream",
     "text": [
      "Requirement already satisfied: streamlit in /Users/visalakshisaminathan/anaconda3/lib/python3.10/site-packages (1.20.0)\n",
      "Requirement already satisfied: protobuf<4,>=3.12 in /Users/visalakshisaminathan/anaconda3/lib/python3.10/site-packages (from streamlit) (3.20.3)\n",
      "Requirement already satisfied: validators>=0.2 in /Users/visalakshisaminathan/anaconda3/lib/python3.10/site-packages (from streamlit) (0.20.0)\n",
      "Requirement already satisfied: pydeck>=0.1.dev5 in /Users/visalakshisaminathan/anaconda3/lib/python3.10/site-packages (from streamlit) (0.8.0)\n",
      "Requirement already satisfied: pyarrow>=4.0 in /Users/visalakshisaminathan/anaconda3/lib/python3.10/site-packages (from streamlit) (11.0.0)\n",
      "Requirement already satisfied: packaging>=14.1 in /Users/visalakshisaminathan/anaconda3/lib/python3.10/site-packages (from streamlit) (22.0)\n",
      "Requirement already satisfied: toml in /Users/visalakshisaminathan/anaconda3/lib/python3.10/site-packages (from streamlit) (0.10.2)\n",
      "Requirement already satisfied: numpy in /Users/visalakshisaminathan/anaconda3/lib/python3.10/site-packages (from streamlit) (1.23.5)\n",
      "Requirement already satisfied: click>=7.0 in /Users/visalakshisaminathan/anaconda3/lib/python3.10/site-packages (from streamlit) (8.0.4)\n",
      "Requirement already satisfied: semver in /Users/visalakshisaminathan/anaconda3/lib/python3.10/site-packages (from streamlit) (2.13.0)\n",
      "Requirement already satisfied: requests>=2.4 in /Users/visalakshisaminathan/anaconda3/lib/python3.10/site-packages (from streamlit) (2.28.1)\n",
      "Requirement already satisfied: cachetools>=4.0 in /Users/visalakshisaminathan/anaconda3/lib/python3.10/site-packages (from streamlit) (5.3.0)\n",
      "Requirement already satisfied: tzlocal>=1.1 in /Users/visalakshisaminathan/anaconda3/lib/python3.10/site-packages (from streamlit) (4.3)\n",
      "Requirement already satisfied: pympler>=0.9 in /Users/visalakshisaminathan/anaconda3/lib/python3.10/site-packages (from streamlit) (1.0.1)\n",
      "Requirement already satisfied: python-dateutil in /Users/visalakshisaminathan/anaconda3/lib/python3.10/site-packages (from streamlit) (2.8.2)\n",
      "Requirement already satisfied: rich>=10.11.0 in /Users/visalakshisaminathan/anaconda3/lib/python3.10/site-packages (from streamlit) (13.3.3)\n",
      "Requirement already satisfied: gitpython!=3.1.19 in /Users/visalakshisaminathan/anaconda3/lib/python3.10/site-packages (from streamlit) (3.1.31)\n",
      "Requirement already satisfied: blinker>=1.0.0 in /Users/visalakshisaminathan/anaconda3/lib/python3.10/site-packages (from streamlit) (1.5)\n",
      "Requirement already satisfied: importlib-metadata>=1.4 in /Users/visalakshisaminathan/anaconda3/lib/python3.10/site-packages (from streamlit) (4.11.3)\n",
      "Requirement already satisfied: pandas<2,>=0.25 in /Users/visalakshisaminathan/anaconda3/lib/python3.10/site-packages (from streamlit) (1.5.3)\n",
      "Requirement already satisfied: altair<5,>=3.2.0 in /Users/visalakshisaminathan/anaconda3/lib/python3.10/site-packages (from streamlit) (4.2.2)\n",
      "Requirement already satisfied: tornado>=6.0.3 in /Users/visalakshisaminathan/anaconda3/lib/python3.10/site-packages (from streamlit) (6.1)\n",
      "Requirement already satisfied: pillow>=6.2.0 in /Users/visalakshisaminathan/anaconda3/lib/python3.10/site-packages (from streamlit) (9.4.0)\n",
      "Requirement already satisfied: typing-extensions>=3.10.0.0 in /Users/visalakshisaminathan/anaconda3/lib/python3.10/site-packages (from streamlit) (4.4.0)\n",
      "Requirement already satisfied: jsonschema>=3.0 in /Users/visalakshisaminathan/anaconda3/lib/python3.10/site-packages (from altair<5,>=3.2.0->streamlit) (4.17.3)\n",
      "Requirement already satisfied: toolz in /Users/visalakshisaminathan/anaconda3/lib/python3.10/site-packages (from altair<5,>=3.2.0->streamlit) (0.12.0)\n",
      "Requirement already satisfied: jinja2 in /Users/visalakshisaminathan/anaconda3/lib/python3.10/site-packages (from altair<5,>=3.2.0->streamlit) (3.1.2)\n",
      "Requirement already satisfied: entrypoints in /Users/visalakshisaminathan/anaconda3/lib/python3.10/site-packages (from altair<5,>=3.2.0->streamlit) (0.4)\n",
      "Requirement already satisfied: gitdb<5,>=4.0.1 in /Users/visalakshisaminathan/anaconda3/lib/python3.10/site-packages (from gitpython!=3.1.19->streamlit) (4.0.10)\n",
      "Requirement already satisfied: zipp>=0.5 in /Users/visalakshisaminathan/anaconda3/lib/python3.10/site-packages (from importlib-metadata>=1.4->streamlit) (3.11.0)\n",
      "Requirement already satisfied: pytz>=2020.1 in /Users/visalakshisaminathan/anaconda3/lib/python3.10/site-packages (from pandas<2,>=0.25->streamlit) (2022.7)\n",
      "Requirement already satisfied: six>=1.5 in /Users/visalakshisaminathan/anaconda3/lib/python3.10/site-packages (from python-dateutil->streamlit) (1.16.0)\n",
      "Requirement already satisfied: charset-normalizer<3,>=2 in /Users/visalakshisaminathan/anaconda3/lib/python3.10/site-packages (from requests>=2.4->streamlit) (2.0.4)\n",
      "Requirement already satisfied: idna<4,>=2.5 in /Users/visalakshisaminathan/anaconda3/lib/python3.10/site-packages (from requests>=2.4->streamlit) (3.4)\n",
      "Requirement already satisfied: urllib3<1.27,>=1.21.1 in /Users/visalakshisaminathan/anaconda3/lib/python3.10/site-packages (from requests>=2.4->streamlit) (1.26.14)\n",
      "Requirement already satisfied: certifi>=2017.4.17 in /Users/visalakshisaminathan/anaconda3/lib/python3.10/site-packages (from requests>=2.4->streamlit) (2022.12.7)\n",
      "Requirement already satisfied: markdown-it-py<3.0.0,>=2.2.0 in /Users/visalakshisaminathan/anaconda3/lib/python3.10/site-packages (from rich>=10.11.0->streamlit) (2.2.0)\n",
      "Requirement already satisfied: pygments<3.0.0,>=2.13.0 in /Users/visalakshisaminathan/anaconda3/lib/python3.10/site-packages (from rich>=10.11.0->streamlit) (2.14.0)\n",
      "Requirement already satisfied: pytz-deprecation-shim in /Users/visalakshisaminathan/anaconda3/lib/python3.10/site-packages (from tzlocal>=1.1->streamlit) (0.1.0.post0)\n",
      "Requirement already satisfied: decorator>=3.4.0 in /Users/visalakshisaminathan/anaconda3/lib/python3.10/site-packages (from validators>=0.2->streamlit) (5.1.1)\n",
      "Requirement already satisfied: smmap<6,>=3.0.1 in /Users/visalakshisaminathan/anaconda3/lib/python3.10/site-packages (from gitdb<5,>=4.0.1->gitpython!=3.1.19->streamlit) (5.0.0)\n",
      "Requirement already satisfied: MarkupSafe>=2.0 in /Users/visalakshisaminathan/anaconda3/lib/python3.10/site-packages (from jinja2->altair<5,>=3.2.0->streamlit) (2.1.1)\n",
      "Requirement already satisfied: attrs>=17.4.0 in /Users/visalakshisaminathan/anaconda3/lib/python3.10/site-packages (from jsonschema>=3.0->altair<5,>=3.2.0->streamlit) (22.1.0)\n",
      "Requirement already satisfied: pyrsistent!=0.17.0,!=0.17.1,!=0.17.2,>=0.14.0 in /Users/visalakshisaminathan/anaconda3/lib/python3.10/site-packages (from jsonschema>=3.0->altair<5,>=3.2.0->streamlit) (0.18.0)\n",
      "Requirement already satisfied: mdurl~=0.1 in /Users/visalakshisaminathan/anaconda3/lib/python3.10/site-packages (from markdown-it-py<3.0.0,>=2.2.0->rich>=10.11.0->streamlit) (0.1.2)\n",
      "Requirement already satisfied: tzdata in /Users/visalakshisaminathan/anaconda3/lib/python3.10/site-packages (from pytz-deprecation-shim->tzlocal>=1.1->streamlit) (2023.3)\n"
     ]
    }
   ],
   "source": [
    "!pip install streamlit"
   ]
  },
  {
   "cell_type": "code",
   "execution_count": 4,
   "id": "a694d53d",
   "metadata": {},
   "outputs": [
    {
     "ename": "SyntaxError",
     "evalue": "invalid syntax (3479966463.py, line 1)",
     "output_type": "error",
     "traceback": [
      "\u001b[0;36m  Cell \u001b[0;32mIn[4], line 1\u001b[0;36m\u001b[0m\n\u001b[0;31m    streamlit helloworld\u001b[0m\n\u001b[0m              ^\u001b[0m\n\u001b[0;31mSyntaxError\u001b[0m\u001b[0;31m:\u001b[0m invalid syntax\n"
     ]
    }
   ],
   "source": [
    "import streamlit as st\n",
    "\n",
    "# Create 10 columns of equal width\n",
    "cols = st.beta_columns(10)\n",
    "\n",
    "# Loop through each column and add a text input widget\n",
    "for col in cols:\n",
    "    col.text_input('Enter text')\n",
    "\n",
    "# Create 5 columns of equal width\n",
    "cols = st.beta_columns(5)\n",
    "\n",
    "# Loop through each column and add a button widget\n",
    "for col in cols:\n",
    "    col.button('Click me')"
   ]
  }
 ],
 "metadata": {
  "kernelspec": {
   "display_name": "Python 3 (ipykernel)",
   "language": "python",
   "name": "python3"
  },
  "language_info": {
   "codemirror_mode": {
    "name": "ipython",
    "version": 3
   },
   "file_extension": ".py",
   "mimetype": "text/x-python",
   "name": "python",
   "nbconvert_exporter": "python",
   "pygments_lexer": "ipython3",
   "version": "3.9.16"
  }
 },
 "nbformat": 4,
 "nbformat_minor": 5
}
